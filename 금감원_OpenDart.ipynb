{
  "nbformat": 4,
  "nbformat_minor": 0,
  "metadata": {
    "colab": {
      "provenance": [],
      "authorship_tag": "ABX9TyOgncIb0oyviKATnKtegKsg",
      "include_colab_link": true
    },
    "kernelspec": {
      "name": "python3",
      "display_name": "Python 3"
    },
    "language_info": {
      "name": "python"
    }
  },
  "cells": [
    {
      "cell_type": "markdown",
      "metadata": {
        "id": "view-in-github",
        "colab_type": "text"
      },
      "source": [
        "<a href=\"https://colab.research.google.com/github/cras-lab/OpenAPI/blob/main/%EA%B8%88%EA%B0%90%EC%9B%90_OpenDart.ipynb\" target=\"_parent\"><img src=\"https://colab.research.google.com/assets/colab-badge.svg\" alt=\"Open In Colab\"/></a>"
      ]
    },
    {
      "cell_type": "markdown",
      "source": [
        "금감원이 Open DART 공시시스템에서 삼성전자의 연결재무와 독립재무<BR>\n",
        "값을 읽어 오는 예제"
      ],
      "metadata": {
        "id": "sZ3Lc29-zB-m"
      }
    },
    {
      "cell_type": "markdown",
      "source": [
        "OpenDART 공시스템에서 값 가져오기\n",
        "먼저 필요한 모듈을 임포트 한다."
      ],
      "metadata": {
        "id": "Lxo6FJwa171e"
      }
    },
    {
      "cell_type": "code",
      "source": [
        "import requests\n",
        "import pandas as pd"
      ],
      "metadata": {
        "id": "ygrWu3px2Dl_"
      },
      "execution_count": 1,
      "outputs": []
    },
    {
      "cell_type": "markdown",
      "source": [
        "자신의 OpenDART 키를 설정한다. 금융통계정보시스템 Key와는 다르니 주의하자."
      ],
      "metadata": {
        "id": "8ncpQxkZ2FIx"
      }
    },
    {
      "cell_type": "code",
      "source": [
        "# OpenDART API 키\n",
        "api_key = 'a06ed5ecaee6fac7168de666b7912090bfd1af23'"
      ],
      "metadata": {
        "id": "yErss-Fe2Q3H"
      },
      "execution_count": 2,
      "outputs": []
    },
    {
      "cell_type": "markdown",
      "source": [
        "삼성전자의 종목코드를 입력한다."
      ],
      "metadata": {
        "id": "GXEn9qH_2S-Q"
      }
    },
    {
      "cell_type": "code",
      "source": [
        "# 삼성전자의 종목 코드\n",
        "corp_code = '00126380'  # 삼성전자의 법인 코드 (예시, 실제 코드가 다를 수 있음)"
      ],
      "metadata": {
        "id": "8WhQMM9F2VyG"
      },
      "execution_count": 3,
      "outputs": []
    },
    {
      "cell_type": "markdown",
      "source": [
        "당기 순이익을 저장할 리스트를 선언한다."
      ],
      "metadata": {
        "id": "Io_CV-IoyKY0"
      }
    },
    {
      "cell_type": "code",
      "source": [
        "# 당기순이익 정보를 저장할 리스트\n",
        "net_incomes = []"
      ],
      "metadata": {
        "id": "mPSeGOwayPOg"
      },
      "execution_count": 5,
      "outputs": []
    },
    {
      "cell_type": "markdown",
      "source": [
        "읽어올 연도의 범위를 설정한다."
      ],
      "metadata": {
        "id": "63ACn73RyQ_8"
      }
    },
    {
      "cell_type": "code",
      "source": [
        "# 연도 범위 설정\n",
        "years = range(2015, 2023)"
      ],
      "metadata": {
        "id": "ScyIlD4ayTe8"
      },
      "execution_count": 6,
      "outputs": []
    },
    {
      "cell_type": "markdown",
      "source": [
        "API를 호출하여 실제 값을 읽어 온다."
      ],
      "metadata": {
        "id": "eiyTLu3MyU8K"
      }
    },
    {
      "cell_type": "code",
      "source": [
        "for year in years:\n",
        "    # OpenDART API URL\n",
        "    url = f'https://opendart.fss.or.kr/api/fnlttSinglAcnt.json?crtfc_key={api_key}&corp_code={corp_code}&bsns_year={year}&reprt_code=11011'\n",
        "\n",
        "    # API 요청 보내기\n",
        "    response = requests.get(url)\n",
        "    data = response.json()\n",
        "\n",
        "    # 결과 확인 및 당기순이익 추출 (연결재무와 단독재무 순으로 나옴)\n",
        "    if 'list' in data:\n",
        "        for item in data['list']:\n",
        "            if item['account_nm'] == '당기순이익':\n",
        "                net_income = {\n",
        "                    'year': year,\n",
        "                    'net_income': item['thstrm_amount']\n",
        "                }\n",
        "                net_incomes.append(net_income)"
      ],
      "metadata": {
        "id": "6i3ZW5W3yY0P"
      },
      "execution_count": 7,
      "outputs": []
    },
    {
      "cell_type": "markdown",
      "source": [
        "읽어온 값을 데이터 프레임으로 변환한다."
      ],
      "metadata": {
        "id": "ig10ugk9ybiS"
      }
    },
    {
      "cell_type": "code",
      "source": [
        "# DataFrame으로 변환\n",
        "df = pd.DataFrame(net_incomes)"
      ],
      "metadata": {
        "id": "FRDxS4mAyfEU"
      },
      "execution_count": 8,
      "outputs": []
    },
    {
      "cell_type": "markdown",
      "source": [
        "읽어 온 값의 열을 분리하고, 각각 연결 및 단독 재무로 저장"
      ],
      "metadata": {
        "id": "0-ceysZjyhKP"
      }
    },
    {
      "cell_type": "code",
      "source": [
        "# 각 연도별 첫 번째 행은 첫 번째 열로, 두 번째 행은 두 번째 열로 분기\n",
        "df['net_income'] = df['net_income'].str.replace(',', '').astype(float)  # 콤마 제거 후 숫자로 변환\n",
        "\n",
        "df_grouped = df.groupby('year').apply(lambda x: x['net_income'].values).apply(pd.Series)\n",
        "df_grouped.columns = ['Consolidated FS', 'Separate FS']\n",
        "df_grouped.index.name = 'year'"
      ],
      "metadata": {
        "id": "pZxb2nWbyqvQ"
      },
      "execution_count": 9,
      "outputs": []
    },
    {
      "cell_type": "markdown",
      "source": [
        "결과를 출력해 본다."
      ],
      "metadata": {
        "id": "jht8R6fpytDO"
      }
    },
    {
      "cell_type": "code",
      "source": [
        "# 결과 출력\n",
        "print(\"\\nTransformed DataFrame:\")\n",
        "print(df_grouped)"
      ],
      "metadata": {
        "id": "MjST-r2LyvEL"
      },
      "execution_count": null,
      "outputs": []
    },
    {
      "cell_type": "markdown",
      "source": [
        "그래프를 그려본다."
      ],
      "metadata": {
        "id": "nepHPESVyw3L"
      }
    },
    {
      "cell_type": "code",
      "source": [
        "df_grouped.plot()"
      ],
      "metadata": {
        "id": "LrAczeGDyyZX"
      },
      "execution_count": null,
      "outputs": []
    }
  ]
}