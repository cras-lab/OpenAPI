{
  "nbformat": 4,
  "nbformat_minor": 0,
  "metadata": {
    "colab": {
      "provenance": [],
      "authorship_tag": "ABX9TyMYjWCmJ+1vN+VTZxl93MNt",
      "include_colab_link": true
    },
    "kernelspec": {
      "name": "python3",
      "display_name": "Python 3"
    },
    "language_info": {
      "name": "python"
    }
  },
  "cells": [
    {
      "cell_type": "markdown",
      "metadata": {
        "id": "view-in-github",
        "colab_type": "text"
      },
      "source": [
        "<a href=\"https://colab.research.google.com/github/cras-lab/OpenAPI/blob/main/%EA%B8%88%EA%B0%90%EC%9B%90_Dart_%EA%B8%B0%EC%97%85%EA%B3%A0%EC%9C%A0%EC%8B%9D%EB%B3%84%EB%B2%88%ED%98%B8_%EC%95%8C%EC%95%84%EB%82%B4%EA%B8%B0.ipynb\" target=\"_parent\"><img src=\"https://colab.research.google.com/assets/colab-badge.svg\" alt=\"Open In Colab\"/></a>"
      ]
    },
    {
      "cell_type": "markdown",
      "source": [
        "Open Dart에 있는 기업고유코드를 읽어오는 프로그램<BR>\n",
        "함수 1은, 인수에 있는 단일 회사 코드를 반환하고, <BR>\n",
        "함수 2는 전체 회사 코드를 반환한 다음 CSV에 저장한다."
      ],
      "metadata": {
        "id": "RbZ1W08yHYRE"
      }
    },
    {
      "cell_type": "markdown",
      "source": [
        "먼저 필요한 모듈을 임포트 한다."
      ],
      "metadata": {
        "id": "wzOOIocCHepd"
      }
    },
    {
      "cell_type": "code",
      "source": [
        "import requests\n",
        "import zipfile\n",
        "import pandas as pd\n",
        "import io"
      ],
      "metadata": {
        "id": "FMXlZs5mHpgu"
      },
      "execution_count": 27,
      "outputs": []
    },
    {
      "cell_type": "markdown",
      "source": [
        "기업 명을 입력하면, 해당하는 코드를 반환하는 함수를 정의<BR>\n",
        "인수는 키와 기업명이 된다."
      ],
      "metadata": {
        "id": "JyzPAbFYHrYm"
      }
    },
    {
      "cell_type": "code",
      "source": [
        "def get_company_identifier(api_key, company_name):\n",
        "    base_url = \"https://opendart.fss.or.kr/api/corpCode.xml\"\n",
        "    params = {\n",
        "        \"crtfc_key\": api_key\n",
        "    }\n",
        "\n",
        "    response = requests.get(base_url, params=params)\n",
        "\n",
        "    if response.status_code == 200:\n",
        "        # ZIP 파일을 메모리 내에서 열기\n",
        "        with zipfile.ZipFile(io.BytesIO(response.content)) as thezip:\n",
        "            with thezip.open('CORPCODE.xml') as thefile:\n",
        "                # XML 응답을 파싱\n",
        "                from xml.etree import ElementTree\n",
        "                tree = ElementTree.parse(thefile)\n",
        "                root = tree.getroot()\n",
        "\n",
        "                for corp in root.findall(\"list\"):\n",
        "                    if corp.find(\"corp_name\").text == company_name:\n",
        "                        return corp.find(\"corp_code\").text\n",
        "\n",
        "    return None"
      ],
      "metadata": {
        "id": "Pfa1volSH4EI"
      },
      "execution_count": 28,
      "outputs": []
    },
    {
      "cell_type": "markdown",
      "source": [
        "두 번째 함수는 회사명을 받지 않고, 모든 회사를 df에 넣어 반환<BR>\n",
        "인수는 API KEY만 넣어주면 된다."
      ],
      "metadata": {
        "id": "eXDQi7v5Im1g"
      }
    },
    {
      "cell_type": "code",
      "source": [
        "def get_all_company_identifiers(api_key):\n",
        "    base_url = \"https://opendart.fss.or.kr/api/corpCode.xml\"\n",
        "    params = {\n",
        "        \"crtfc_key\": api_key\n",
        "    }\n",
        "\n",
        "    response = requests.get(base_url, params=params)\n",
        "\n",
        "    if response.status_code == 200:\n",
        "        # ZIP 파일을 메모리 내에서 열기\n",
        "        with zipfile.ZipFile(io.BytesIO(response.content)) as thezip:\n",
        "            with thezip.open('CORPCODE.xml') as thefile:\n",
        "                # XML 응답을 파싱\n",
        "                from xml.etree import ElementTree\n",
        "                tree = ElementTree.parse(thefile)\n",
        "                root = tree.getroot()\n",
        "\n",
        "                data = []\n",
        "                for corp in root.findall(\"list\"):\n",
        "                    corp_code = corp.find(\"corp_code\").text\n",
        "                    corp_name = corp.find(\"corp_name\").text\n",
        "                    stock_code = corp.find(\"stock_code\").text\n",
        "                    modify_date = corp.find(\"modify_date\").text\n",
        "                    data.append({\n",
        "                        'corp_code': corp_code,\n",
        "                        'corp_name': corp_name,\n",
        "                        'stock_code': stock_code,\n",
        "                        'modify_date': modify_date\n",
        "                    })\n",
        "\n",
        "                # 데이터프레임으로 변환\n",
        "                df = pd.DataFrame(data)\n",
        "                return df\n",
        "\n",
        "    return None"
      ],
      "metadata": {
        "id": "rjqRedzdIfbl"
      },
      "execution_count": 29,
      "outputs": []
    },
    {
      "cell_type": "markdown",
      "source": [
        "키를 설정하고, 호출하고자 하는 회사명을 기입한다."
      ],
      "metadata": {
        "id": "1fJMhJrpH6o_"
      }
    },
    {
      "cell_type": "code",
      "source": [
        "# 사용 예시\n",
        "api_key = \"a06ed5ecaee6fac7168de666b7912090bfd1af23\"\n",
        "company_name = \"신한은행\""
      ],
      "metadata": {
        "id": "5r7eu4VJH-4U"
      },
      "execution_count": 30,
      "outputs": []
    },
    {
      "cell_type": "markdown",
      "source": [
        "첫번째 함수를 호출하여 회사 코드를 읽어 온다.굵은 텍스트"
      ],
      "metadata": {
        "id": "qTZ9aQyPIA9Z"
      }
    },
    {
      "cell_type": "code",
      "source": [
        "company_code = get_company_identifier(api_key, company_name)"
      ],
      "metadata": {
        "id": "E_6ElN2OIGDD"
      },
      "execution_count": 31,
      "outputs": []
    },
    {
      "cell_type": "markdown",
      "source": [
        "읽어온 코드를 출력한다."
      ],
      "metadata": {
        "id": "weovpkmmIDxQ"
      }
    },
    {
      "cell_type": "code",
      "execution_count": null,
      "metadata": {
        "id": "esLvj90k4BPI"
      },
      "outputs": [],
      "source": [
        "if company_code:\n",
        "    print(f\"{company_name}의 고유식별번호: {company_code}\")\n",
        "else:\n",
        "    print(f\"{company_name}의 고유식별번호를 찾을 수 없습니다.\")\n"
      ]
    },
    {
      "cell_type": "markdown",
      "source": [
        "이번에는 두 번째 함수를 호출하여, 모든 식별자를 받아 온다."
      ],
      "metadata": {
        "id": "LjKPpZMeI0qT"
      }
    },
    {
      "cell_type": "code",
      "source": [
        "df = get_all_company_identifiers(api_key)\n",
        "\n",
        "if df is not None:\n",
        "    print(df)\n",
        "else:\n",
        "    print(\"기업 식별번호를 불러올 수 없습니다.\")"
      ],
      "metadata": {
        "id": "8FYEHIa3Ijlk"
      },
      "execution_count": null,
      "outputs": []
    },
    {
      "cell_type": "markdown",
      "source": [
        "모든 식별자를 별도의 CSV 파일에 저장한다.<BR>마지막에 반드시 UTF-8-sig를 명기해야 한다.<BR> UTF-8로 인코딩한다는 식별자에 해당한다."
      ],
      "metadata": {
        "id": "fwbv2tqaIluA"
      }
    },
    {
      "cell_type": "code",
      "source": [
        "df.to_csv(\"all_company_identifiers.csv\", index=False, encoding='utf-8-sig')"
      ],
      "metadata": {
        "id": "UjgZRZpXI7uc"
      },
      "execution_count": 35,
      "outputs": []
    }
  ]
}