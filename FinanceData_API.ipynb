{
  "nbformat": 4,
  "nbformat_minor": 0,
  "metadata": {
    "colab": {
      "provenance": [],
      "authorship_tag": "ABX9TyNeWPcMwodzIqytZMfFytCf",
      "include_colab_link": true
    },
    "kernelspec": {
      "name": "python3",
      "display_name": "Python 3"
    },
    "language_info": {
      "name": "python"
    }
  },
  "cells": [
    {
      "cell_type": "markdown",
      "metadata": {
        "id": "view-in-github",
        "colab_type": "text"
      },
      "source": [
        "<a href=\"https://colab.research.google.com/github/cras-lab/OpenAPI/blob/main/FinanceData_API.ipynb\" target=\"_parent\"><img src=\"https://colab.research.google.com/assets/colab-badge.svg\" alt=\"Open In Colab\"/></a>"
      ]
    },
    {
      "cell_type": "markdown",
      "source": [
        "PART1: yahoo yfinance를 사용하고, DataFrame의 기본 기능을 소개"
      ],
      "metadata": {
        "id": "lLKdEiRuqRln"
      }
    },
    {
      "cell_type": "markdown",
      "source": [
        "필요한 모듈을 Load 한다."
      ],
      "metadata": {
        "id": "3sF05XGzYr7z"
      }
    },
    {
      "cell_type": "code",
      "source": [
        "import yfinance as yf\n",
        "import pandas as pd"
      ],
      "metadata": {
        "id": "RtF2ULGIYxTf"
      },
      "execution_count": null,
      "outputs": []
    },
    {
      "cell_type": "markdown",
      "source": [
        "Apple 주가를 다운로드 받고, 데이터프레임 형식을 살펴본다."
      ],
      "metadata": {
        "id": "Pnm0sBePlumW"
      }
    },
    {
      "cell_type": "code",
      "source": [
        "apple = yf.download( \"AAPL\", start=\"2020-01-01\", end=\"2022-12-31\" , progress=False )"
      ],
      "metadata": {
        "id": "cAsxy_eXl1rb"
      },
      "execution_count": null,
      "outputs": []
    },
    {
      "cell_type": "markdown",
      "source": [
        "데이터형식이 어떻게 되어 있는지 살펴본다."
      ],
      "metadata": {
        "id": "eYUUJCKfmVK7"
      }
    },
    {
      "cell_type": "code",
      "source": [
        "print(apple)"
      ],
      "metadata": {
        "id": "4noDu722maDH"
      },
      "execution_count": null,
      "outputs": []
    },
    {
      "cell_type": "markdown",
      "source": [
        "요약 통계량을 출력해 본다."
      ],
      "metadata": {
        "id": "XSAITMo5m9Ij"
      }
    },
    {
      "cell_type": "code",
      "source": [
        "apple.describe()"
      ],
      "metadata": {
        "id": "heWtEz1Gm_6N"
      },
      "execution_count": null,
      "outputs": []
    },
    {
      "cell_type": "markdown",
      "source": [
        "6개 열에 담겨있는 모든 데이터를 그래프로 출력해 본다."
      ],
      "metadata": {
        "id": "IIcxIiHOnIni"
      }
    },
    {
      "cell_type": "code",
      "source": [
        "apple.plot()"
      ],
      "metadata": {
        "id": "lyvRMLQ2nMIv"
      },
      "execution_count": null,
      "outputs": []
    },
    {
      "cell_type": "markdown",
      "source": [
        "6개 열 중 Close 열만 별도로 출력해 본다."
      ],
      "metadata": {
        "id": "wFipafdSnXMK"
      }
    },
    {
      "cell_type": "code",
      "source": [
        "apple.Close.plot()"
      ],
      "metadata": {
        "id": "3BCR164bnbRZ"
      },
      "execution_count": null,
      "outputs": []
    },
    {
      "cell_type": "markdown",
      "source": [
        "두 개의 열, High와 Low를 그래프로 그려본다."
      ],
      "metadata": {
        "id": "RYu9xwZ4oEFM"
      }
    },
    {
      "cell_type": "code",
      "source": [
        "apple[ ['High', 'Low'] ].plot()"
      ],
      "metadata": {
        "id": "FSog_hA1oHhY"
      },
      "execution_count": null,
      "outputs": []
    },
    {
      "cell_type": "markdown",
      "source": [
        "High와 Low의 차이를 그려본다."
      ],
      "metadata": {
        "id": "CB0-PJg9olsA"
      }
    },
    {
      "cell_type": "code",
      "source": [
        "(apple.High - apple.Low).plot()"
      ],
      "metadata": {
        "id": "_p7mKTTQoqU6"
      },
      "execution_count": null,
      "outputs": []
    },
    {
      "cell_type": "markdown",
      "source": [
        "High와 Low의 차이로 이루어진 새로운 데이터 프레임을 생성하고 그 내용을 들여다 본다."
      ],
      "metadata": {
        "id": "wySjoptvpNUG"
      }
    },
    {
      "cell_type": "code",
      "source": [
        "Apple_Gap =  apple.High - apple.Low\n",
        "print(Apple_Gap)"
      ],
      "metadata": {
        "id": "8gcsZSMso5yd"
      },
      "execution_count": null,
      "outputs": []
    },
    {
      "cell_type": "markdown",
      "source": [
        "High와 Low의 요약 통계량을 살펴본다."
      ],
      "metadata": {
        "id": "wHMCzxpnpTUa"
      }
    },
    {
      "cell_type": "code",
      "source": [
        "Apple_Gap.describe()"
      ],
      "metadata": {
        "id": "ZGT-2UwQpdhk"
      },
      "execution_count": null,
      "outputs": []
    },
    {
      "cell_type": "markdown",
      "source": [
        "High와 Low의 차이를 히스토그램을 그려 비교해 본다."
      ],
      "metadata": {
        "id": "y3-zvokVqBhb"
      }
    },
    {
      "cell_type": "code",
      "source": [
        "Apple_Gap =  apple.High - apple.Low\n",
        "Apple_Gap.plot( kind='hist' , title='Apple daily price spread' )"
      ],
      "metadata": {
        "id": "7742m8ygqIHb"
      },
      "execution_count": null,
      "outputs": []
    },
    {
      "cell_type": "markdown",
      "source": [
        "다수의 종목을 한꺼번에 dataframe에 불러 들여와, 살펴본다.<BR>\n",
        "이번에는 종가(Close) 부분만 읽어 들여, 일정기간 동안의 주가 흐름을 비교해 본다."
      ],
      "metadata": {
        "id": "CBuMmr7utIBq"
      }
    },
    {
      "cell_type": "markdown",
      "source": [
        "읽어 올 종목들을 리스트로 작성한다."
      ],
      "metadata": {
        "id": "zvLsZ1HAYzkE"
      }
    },
    {
      "cell_type": "code",
      "source": [
        "stocks = [\"AAPL\", \"AMZN\", \"NVDA\", \"MSFT\", \"BABA\"]"
      ],
      "metadata": {
        "id": "LlizMKDcuFSX"
      },
      "execution_count": null,
      "outputs": []
    },
    {
      "cell_type": "markdown",
      "source": [
        "주가를 읽어 올 기간을 설정한다."
      ],
      "metadata": {
        "id": "B7pW8fQUuUbn"
      }
    },
    {
      "cell_type": "code",
      "source": [
        "start = \"2020-01-01\"\n",
        "end = \"2022-12-31\""
      ],
      "metadata": {
        "id": "xIQRy4-8Y7Ml"
      },
      "execution_count": null,
      "outputs": []
    },
    {
      "cell_type": "markdown",
      "source": [
        "리스트(stocks)에 있는 종목의 데이터 불러오기<BR>"
      ],
      "metadata": {
        "id": "I6m5GM50ZDYo"
      }
    },
    {
      "cell_type": "code",
      "source": [
        "yf_stocks = yf.download( stocks, start=start, end=end , progress=False ).Close"
      ],
      "metadata": {
        "id": "alT6ey27ZM2j"
      },
      "execution_count": null,
      "outputs": []
    },
    {
      "cell_type": "markdown",
      "source": [
        "데이터프레임이 어떤 열로 구성되어 있는지 살펴본다."
      ],
      "metadata": {
        "id": "Eaibcs-FvMoG"
      }
    },
    {
      "cell_type": "code",
      "source": [
        "print( yf_stocks )"
      ],
      "metadata": {
        "id": "SHA1yuKovSC9"
      },
      "execution_count": null,
      "outputs": []
    },
    {
      "cell_type": "markdown",
      "source": [
        "모든 열을 도식화 해 본다."
      ],
      "metadata": {
        "id": "pFAKArGAZPVS"
      }
    },
    {
      "cell_type": "code",
      "source": [
        "yf_stocks.plot()"
      ],
      "metadata": {
        "id": "yyeIT_GEZQtU"
      },
      "execution_count": null,
      "outputs": []
    },
    {
      "cell_type": "markdown",
      "source": [
        "PART 2: finance-datareader module을 사용하고<BR>\n",
        "다양한 금융데이터를 불러옴(주가, 환율, 코인시세 등)\n",
        "\n",
        "\n"
      ],
      "metadata": {
        "id": "6A4g5D1cDCb3"
      }
    },
    {
      "cell_type": "markdown",
      "source": [
        "Colab에 기본으로 설치된 모듈이 아니면, 별도로 설치해야 한다.<BR>\n",
        "먼저 모듈을 설치한다."
      ],
      "metadata": {
        "id": "_jGsTiuFZm2n"
      }
    },
    {
      "cell_type": "code",
      "execution_count": null,
      "metadata": {
        "id": "gWm09r8RC7SK"
      },
      "outputs": [],
      "source": [
        "pip install -q finance-datareader"
      ]
    },
    {
      "cell_type": "markdown",
      "source": [
        "필요한 모듈을 import 한다."
      ],
      "metadata": {
        "id": "LD_iqKozZqXX"
      }
    },
    {
      "cell_type": "code",
      "source": [
        "import FinanceDataReader as fdr\n",
        "import pandas as pd"
      ],
      "metadata": {
        "id": "QkqTpY3z0yDs"
      },
      "execution_count": null,
      "outputs": []
    },
    {
      "cell_type": "markdown",
      "source": [
        "한국거래소에서 어떤 정보를 불러 올 수 있는지 확인한다."
      ],
      "metadata": {
        "id": "8n2HZob0YmXu"
      }
    },
    {
      "cell_type": "code",
      "source": [
        "df_krx = fdr.StockListing('KRX')\n",
        "print( df_krx )"
      ],
      "metadata": {
        "id": "aXUZvzVXYa7p"
      },
      "execution_count": null,
      "outputs": []
    },
    {
      "cell_type": "markdown",
      "source": [
        "삼성전자와 SK하이닉스 코드를 확인 후 불러온다."
      ],
      "metadata": {
        "id": "IPTfcbfCZ9Vn"
      }
    },
    {
      "cell_type": "code",
      "source": [
        "stocks = [ '005930', '000660'  ]\n",
        "names = [ 'Samsung', 'SK Hynix']\n",
        "\n",
        "krx_prices = pd.DataFrame()\n",
        "start = \"2021-01-01\"\n",
        "end = \"2022-12-31\"\n",
        "\n",
        "for stock in stocks:\n",
        "  krx_prices[stock] = fdr.DataReader( stock, start, end ).Close"
      ],
      "metadata": {
        "id": "jydyH89O2ch7"
      },
      "execution_count": null,
      "outputs": []
    },
    {
      "cell_type": "markdown",
      "source": [
        "그래프를 출력해 본다."
      ],
      "metadata": {
        "id": "4xBf6knGuRrH"
      }
    },
    {
      "cell_type": "code",
      "source": [
        "krx_prices.plot()"
      ],
      "metadata": {
        "id": "REg4xIkTuT5B"
      },
      "execution_count": null,
      "outputs": []
    },
    {
      "cell_type": "markdown",
      "source": [
        "열 이름을 ticker symbol 대신 회사명으로 대체한다."
      ],
      "metadata": {
        "id": "zsFis7mJuEa3"
      }
    },
    {
      "cell_type": "code",
      "source": [
        "krx_prices.columns = names"
      ],
      "metadata": {
        "id": "uG7fqF_huK0p"
      },
      "execution_count": null,
      "outputs": []
    },
    {
      "cell_type": "markdown",
      "source": [
        "주가 그래프를 출력해 본다."
      ],
      "metadata": {
        "id": "OkP2Lcbct3v7"
      }
    },
    {
      "cell_type": "code",
      "source": [
        "krx_prices.plot()"
      ],
      "metadata": {
        "id": "93sXP9pGt6Rl"
      },
      "execution_count": null,
      "outputs": []
    },
    {
      "cell_type": "markdown",
      "source": [
        "주가지수를 불러온다.<BR>\n",
        "KOSPI, S&P500, DowJones, HSI(Hang Seng Index)를 불러온다."
      ],
      "metadata": {
        "id": "S-ueo7gsDOrZ"
      }
    },
    {
      "cell_type": "code",
      "source": [
        "indices = [ \"KS11\", \"US500\", \"DJI\" ,  \"HSI\" ]\n",
        "start = \"2021-01-01\"\n",
        "end = \"2022-12-31\"\n",
        "\n",
        "index_rates = pd.DataFrame()\n",
        "\n",
        "for index in indices:\n",
        "  index_rates[ index ] = fdr.DataReader( index , start, end ).Close\n",
        "\n",
        "index_rates.plot()\n"
      ],
      "metadata": {
        "id": "skfiWvXyDQT6"
      },
      "execution_count": null,
      "outputs": []
    },
    {
      "cell_type": "markdown",
      "source": [
        "지수의 규모가 서로 다르므로, 비슷한 크기끼리 규모를 달리하여 비교해 본다.<BR>\n",
        "좌측에는 KOSPI와 S&P500을 우측 눈금에는 DJI와 HSI를 도식화 해 본다."
      ],
      "metadata": {
        "id": "BIWTJrntwJXR"
      }
    },
    {
      "cell_type": "markdown",
      "source": [
        "먼저 그래프를 그리기 위한 모듈 matplotlib를 임포트 한다."
      ],
      "metadata": {
        "id": "nAEyrCdJwjD-"
      }
    },
    {
      "cell_type": "code",
      "source": [
        "import matplotlib.pyplot as plt"
      ],
      "metadata": {
        "id": "i7T_1rQGwpD1"
      },
      "execution_count": null,
      "outputs": []
    },
    {
      "cell_type": "markdown",
      "source": [
        "이제 단계별로 좌측, 우측 그래프를 그리고 표시한다."
      ],
      "metadata": {
        "id": "TBNcptV786cU"
      }
    },
    {
      "cell_type": "code",
      "source": [
        "fig, ax1 = plt.subplots()\n",
        "\n",
        "# step1:  x축과 왼쪽 Y축 레이블을 설정하고, 색깔을 지정한다.\n",
        "ax1.set_xlabel('DATE')\n",
        "ax1.set_ylabel(indices[0] + \"&\" + indices[1], color='b')\n",
        "\n",
        "# step2:  왼쪽 축에 코스피와 S&P500 그래프를 그린다.\n",
        "ax1.plot(index_rates.index, index_rates[indices[0]], color= 'b')\n",
        "ax1.plot(index_rates.index, index_rates[indices[1]], color='g')\n",
        "\n",
        "# step3:  범례를 포함한 나머지 매개변수를 설정한다.\n",
        "ax1.legend([ indices[0], indices[1]], loc=\"upper left\")\n",
        "ax1.tick_params(axis='y', labelcolor='b')\n",
        "\n",
        "# step4: 이제 오른쪽 축을 생성한다.\n",
        "ax2 = ax1.twinx()\n",
        "\n",
        "# step5: 오른쪽 y축에 표시할 레이블을 지정한다.\n",
        "ax2.set_ylabel(indices[2] + \"&\" + indices[3], color='r')\n",
        "\n",
        "# step6: 오른쪽 y축에 그린다.\n",
        "ax2.plot(index_rates.index, index_rates[indices[2]], color='r')\n",
        "ax2.plot(index_rates.index, index_rates[indices[3]], color='y')\n",
        "\n",
        "# step7: 범례 등 기타 매개변수를 설정한다.\n",
        "ax2.legend([ indices[2], indices[3]], loc=\"lower left\")\n",
        "ax2.tick_params(axis='y', labelcolor='r')\n",
        "\n",
        "# step8: 여백을 자동설정하고, 그래프를 그린다.\n",
        "fig.tight_layout()\n",
        "plt.show()"
      ],
      "metadata": {
        "id": "wT35Om02xICY"
      },
      "execution_count": null,
      "outputs": []
    },
    {
      "cell_type": "markdown",
      "source": [
        "환율정보도 표시해 본다.<BR>\n",
        "먼저 원달러 환율을 불러와서 어떤 열이 있는지 살펴본다."
      ],
      "metadata": {
        "id": "9UxW70sW7-Xi"
      }
    },
    {
      "cell_type": "code",
      "source": [
        "USKRW = fdr.DataReader( 'USD/KRW' , start, end )\n",
        "start = \"2021-01-01\"\n",
        "end = \"2022-12-31\"\n",
        "\n",
        "print(USKRW)"
      ],
      "metadata": {
        "id": "AHFdsfILzWI8"
      },
      "execution_count": null,
      "outputs": []
    },
    {
      "cell_type": "markdown",
      "source": [
        "주식정보와 유사한 구성을 가졌다는 것을 알았으니, 이제 종가(Close)만 이용해, 복수의 환율을 살펴보자.<BR>\n",
        "원달러 환율과 원중국위안 환율을 살펴본다."
      ],
      "metadata": {
        "id": "cYtJX31jzfnA"
      }
    },
    {
      "cell_type": "code",
      "source": [
        "FEXs = [ 'USD/KRW' , 'USD/CNY']\n",
        "start = \"2021-01-01\"\n",
        "end = \"2022-12-31\"\n",
        "\n",
        "fex_rates = pd.DataFrame()\n",
        "\n",
        "for fex in FEXs:\n",
        "  fex_rates[ fex ] = fdr.DataReader( fex , start, end ).Close\n"
      ],
      "metadata": {
        "id": "WXSQm9bf7__P"
      },
      "execution_count": null,
      "outputs": []
    },
    {
      "cell_type": "markdown",
      "source": [
        "도식화 해 본다."
      ],
      "metadata": {
        "id": "uytwA1JazyOH"
      }
    },
    {
      "cell_type": "code",
      "source": [
        "fex_rates.plot()"
      ],
      "metadata": {
        "id": "Surj2y_yz2fq"
      },
      "execution_count": null,
      "outputs": []
    },
    {
      "cell_type": "markdown",
      "source": [
        "역시 Scale이 달라 보기가 좋지 않으니, 왼쪽, 오른쪽 축으로 분리해 본다.<BR>\n",
        "왼쪽에는 원달러 환율을 오른쪽에는 위안화대달러 환율을 표기해 보자.<BR>\n",
        "먼저 필요한 모듈을 임포트 한다."
      ],
      "metadata": {
        "id": "C5vxZynaz5aU"
      }
    },
    {
      "cell_type": "code",
      "source": [
        "import matplotlib.pyplot as plt"
      ],
      "metadata": {
        "id": "_m9H1yil0Oml"
      },
      "execution_count": null,
      "outputs": []
    },
    {
      "cell_type": "markdown",
      "source": [
        "부그래프를 생성하고 왼쪽에는 원달러 환율을 오른쪽에는 달러위안화를 표시해 보자."
      ],
      "metadata": {
        "id": "2pRNUoCH0R8l"
      }
    },
    {
      "cell_type": "code",
      "source": [
        "fig, ax1 = plt.subplots()\n",
        "\n",
        "# 왼쪽 축에 원-달러 그래프 그리기\n",
        "color = 'tab:blue'\n",
        "ax1.set_xlabel('DATE')\n",
        "ax1.set_ylabel(FEXs[0], color=color)\n",
        "\n",
        "ax1.plot(fex_rates.index, fex_rates[FEXs[0]], color=color)\n",
        "ax1.tick_params(axis='y', labelcolor=color)\n",
        "\n",
        "# 오른쪽 축 생성\n",
        "ax2 = ax1.twinx()\n",
        "\n",
        "# 오른쪽 축에 달러-위안화 그래프 그리기\n",
        "color = 'tab:red'\n",
        "ax2.set_ylabel(FEXs[1], color=color)\n",
        "ax2.plot(fex_rates.index, fex_rates[FEXs[1]], color=color)\n",
        "ax2.tick_params(axis='y', labelcolor=color)\n",
        "\n",
        "# 여백을 자동설정하고, 이제 그림을 출력해 보자.\n",
        "fig.tight_layout()\n",
        "plt.show()"
      ],
      "metadata": {
        "id": "x_dg2rw-0V1G"
      },
      "execution_count": null,
      "outputs": []
    },
    {
      "cell_type": "markdown",
      "source": [
        "코인시세도 제공하고 있다.<BR>\n",
        "비트코인과 이더리움 시세를 한번 도식화 해 보자."
      ],
      "metadata": {
        "id": "M4UgAQoy09Cy"
      }
    },
    {
      "cell_type": "code",
      "source": [
        "coins = [ \"BTC/KRW\" , \"ETH/KRW\" ]\n",
        "\n",
        "start = \"2021-01-01\"\n",
        "end = \"2022-12-31\"\n",
        "\n",
        "coin_prices = pd.DataFrame()\n",
        "\n",
        "for coin in coins:\n",
        "  coin_prices[ coin ] = fdr.DataReader( coin , start, end ).Close\n",
        "\n",
        "coin_prices.plot()"
      ],
      "metadata": {
        "id": "7rsz-3dcTK4H"
      },
      "execution_count": null,
      "outputs": []
    },
    {
      "cell_type": "markdown",
      "source": [
        "두 코인의 시세차이가 많으니, 양쪽 축으로 갈라서 한번 표시해 보자."
      ],
      "metadata": {
        "id": "xGFi8emo0tWk"
      }
    },
    {
      "cell_type": "code",
      "source": [
        "import matplotlib.pyplot as plt\n",
        "import numpy as np\n",
        "\n",
        "fig, ax1 = plt.subplots()\n",
        "\n",
        "# 왼쪽 축에 비트코인 그래프 그리기\n",
        "color = 'tab:blue'\n",
        "ax1.set_xlabel('Date')\n",
        "ax1.set_ylabel(coins[0], color=color)\n",
        "ax1.plot(coin_prices.index, coin_prices[coins[0]], color=color)\n",
        "ax1.tick_params(axis='y', labelcolor=color)\n",
        "\n",
        "# 오른쪽 축 생성\n",
        "ax2 = ax1.twinx()\n",
        "\n",
        "# 오른쪽 축에 이더리움 그래프 그리기\n",
        "color = 'tab:red'\n",
        "ax2.set_ylabel(coins[1], color=color)\n",
        "ax2.plot(coin_prices.index, coin_prices[coins[1]], color=color)\n",
        "ax2.tick_params(axis='y', labelcolor=color)\n",
        "\n",
        "fig.tight_layout()\n",
        "plt.show()"
      ],
      "metadata": {
        "id": "9CrGJw28--WH"
      },
      "execution_count": null,
      "outputs": []
    }
  ]
}