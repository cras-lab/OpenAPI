{
  "nbformat": 4,
  "nbformat_minor": 0,
  "metadata": {
    "colab": {
      "provenance": [],
      "authorship_tag": "ABX9TyPZfQxNgW3ytkYXf9wiFQZh",
      "include_colab_link": true
    },
    "kernelspec": {
      "name": "python3",
      "display_name": "Python 3"
    },
    "language_info": {
      "name": "python"
    }
  },
  "cells": [
    {
      "cell_type": "markdown",
      "metadata": {
        "id": "view-in-github",
        "colab_type": "text"
      },
      "source": [
        "<a href=\"https://colab.research.google.com/github/cras-lab/OpenAPI/blob/main/%EA%B8%88%EA%B0%90%EC%9B%90_OpenAPI.ipynb\" target=\"_parent\"><img src=\"https://colab.research.google.com/assets/colab-badge.svg\" alt=\"Open In Colab\"/></a>"
      ]
    },
    {
      "cell_type": "markdown",
      "source": [
        "필요한 모듈을 임포트 한다."
      ],
      "metadata": {
        "id": "gwSSbxfWixus"
      }
    },
    {
      "cell_type": "code",
      "source": [
        "import requests\n",
        "import pandas as pd\n",
        "import matplotlib.pyplot as plt"
      ],
      "metadata": {
        "id": "XLMkM01yi4P1"
      },
      "execution_count": 25,
      "outputs": []
    },
    {
      "cell_type": "markdown",
      "source": [
        "금융감독원 OpenAPI 엔드포인트 및 인증 키 (실제 본인의 키로 대체해야 함)\n",
        "\n"
      ],
      "metadata": {
        "id": "HTUst82Vi6zq"
      }
    },
    {
      "cell_type": "code",
      "source": [
        "API_KEY = \"99fdf30d1119b9e834d5ad44757ff97f\"\n",
        "BASE_URL = \"http://fisis.fss.or.kr/openapi/statisticsInfoSearch.json\""
      ],
      "metadata": {
        "id": "W84psaHUjFWl"
      },
      "execution_count": 26,
      "outputs": []
    },
    {
      "cell_type": "markdown",
      "source": [
        "매개변수를 설정한다."
      ],
      "metadata": {
        "id": "JfKVLwLXjRhL"
      }
    },
    {
      "cell_type": "code",
      "source": [
        "params = {\n",
        "  \"lang\": \"kr\",  # 사용언어\n",
        "  \"auth\": API_KEY, # 본인의 감독원 API\n",
        "  \"financeCd\": \"0010927\",  # KB은행 코드\n",
        "  \"listNo\": \"SA001\",  # 임직원 수\n",
        "  \"term\": \"Q\",  # 조회기간 - 분기별\n",
        "  \"startBaseMm\": \"202306\",  # 검색시작일\n",
        "  \"endBaseMm\": \"202406\" # 검색종료일\n",
        "}"
      ],
      "metadata": {
        "id": "xz5_2uQajWJ1"
      },
      "execution_count": 27,
      "outputs": []
    },
    {
      "cell_type": "markdown",
      "source": [
        "Open API를 호출한 다음. 가져온 값을 Json으로 보관한다."
      ],
      "metadata": {
        "id": "4r2YQ4G4jaMq"
      }
    },
    {
      "cell_type": "code",
      "source": [
        "response = requests.get(BASE_URL, params=params)\n",
        "json_data = response.json()"
      ],
      "metadata": {
        "id": "U62RgUmRjhZm"
      },
      "execution_count": 28,
      "outputs": []
    },
    {
      "cell_type": "markdown",
      "source": [
        "json_data를 출력해 본다."
      ],
      "metadata": {
        "id": "AVHLYx-9jjZQ"
      }
    },
    {
      "cell_type": "code",
      "execution_count": 29,
      "metadata": {
        "colab": {
          "base_uri": "https://localhost:8080/"
        },
        "id": "pqZUDz1RVu0L",
        "outputId": "df358276-5498-49c2-dd44-a6a3afcdb267"
      },
      "outputs": [
        {
          "output_type": "stream",
          "name": "stdout",
          "text": [
            "{'result': {'err_cd': '000', 'err_msg': '정상', 'total_count': '56', 'description': [{'column_id': 'a', 'column_nm': '임직원수'}], 'date_of_settlement': '12/31', 'unit': '명', 'list': [{'base_month': '202306', 'finance_cd': '0010927', 'finance_nm': '국민은행', 'account_cd': 'A1', 'account_nm': '임원', 'a': '44'}, {'base_month': '202306', 'finance_cd': '0010927', 'finance_nm': '국민은행', 'account_cd': 'A11', 'account_nm': '임원_상임임원', 'a': ' '}, {'base_month': '202306', 'finance_cd': '0010927', 'finance_nm': '국민은행', 'account_cd': 'A12', 'account_nm': '임원_비상임임원', 'a': ' '}, {'base_month': '202306', 'finance_cd': '0010927', 'finance_nm': '국민은행', 'account_cd': 'A13', 'account_nm': '임원_이사대우', 'a': '36'}, {'base_month': '202306', 'finance_cd': '0010927', 'finance_nm': '국민은행', 'account_cd': 'A2', 'account_nm': '일반직원', 'a': ' '}, {'base_month': '202306', 'finance_cd': '0010927', 'finance_nm': '국민은행', 'account_cd': 'A21', 'account_nm': '일반직원_책임자', 'a': ' '}, {'base_month': '202306', 'finance_cd': '0010927', 'finance_nm': '국민은행', 'account_cd': 'A22', 'account_nm': '일반직원_행원', 'a': ' '}, {'base_month': '202306', 'finance_cd': '0010927', 'finance_nm': '국민은행', 'account_cd': 'A3', 'account_nm': '서무직원', 'a': ' '}, {'base_month': '202306', 'finance_cd': '0010927', 'finance_nm': '국민은행', 'account_cd': 'A4', 'account_nm': '별정직원', 'a': ' '}, {'base_month': '202306', 'finance_cd': '0010927', 'finance_nm': '국민은행', 'account_cd': 'A5', 'account_nm': '무기계약직원', 'a': ' '}, {'base_month': '202306', 'finance_cd': '0010927', 'finance_nm': '국민은행', 'account_cd': 'A', 'account_nm': '총임직원', 'a': '16550'}, {'base_month': '202306', 'finance_cd': '0010927', 'finance_nm': '국민은행', 'account_cd': 'B', 'account_nm': '해외근무임직원', 'a': '249'}, {'base_month': '202306', 'finance_cd': '0010927', 'finance_nm': '국민은행', 'account_cd': 'C', 'account_nm': '현지채용임직원', 'a': ' '}, {'base_month': '202306', 'finance_cd': '0010927', 'finance_nm': '국민은행', 'account_cd': 'D', 'account_nm': '직원외인원', 'a': '3610'}, {'base_month': '202309', 'finance_cd': '0010927', 'finance_nm': '국민은행', 'account_cd': 'A1', 'account_nm': '임원', 'a': '44'}, {'base_month': '202309', 'finance_cd': '0010927', 'finance_nm': '국민은행', 'account_cd': 'A11', 'account_nm': '임원_상임임원', 'a': ' '}, {'base_month': '202309', 'finance_cd': '0010927', 'finance_nm': '국민은행', 'account_cd': 'A12', 'account_nm': '임원_비상임임원', 'a': ' '}, {'base_month': '202309', 'finance_cd': '0010927', 'finance_nm': '국민은행', 'account_cd': 'A13', 'account_nm': '임원_이사대우', 'a': '36'}, {'base_month': '202309', 'finance_cd': '0010927', 'finance_nm': '국민은행', 'account_cd': 'A2', 'account_nm': '일반직원', 'a': ' '}, {'base_month': '202309', 'finance_cd': '0010927', 'finance_nm': '국민은행', 'account_cd': 'A21', 'account_nm': '일반직원_책임자', 'a': ' '}, {'base_month': '202309', 'finance_cd': '0010927', 'finance_nm': '국민은행', 'account_cd': 'A22', 'account_nm': '일반직원_행원', 'a': ' '}, {'base_month': '202309', 'finance_cd': '0010927', 'finance_nm': '국민은행', 'account_cd': 'A3', 'account_nm': '서무직원', 'a': ' '}, {'base_month': '202309', 'finance_cd': '0010927', 'finance_nm': '국민은행', 'account_cd': 'A4', 'account_nm': '별정직원', 'a': ' '}, {'base_month': '202309', 'finance_cd': '0010927', 'finance_nm': '국민은행', 'account_cd': 'A5', 'account_nm': '무기계약직원', 'a': ' '}, {'base_month': '202309', 'finance_cd': '0010927', 'finance_nm': '국민은행', 'account_cd': 'A', 'account_nm': '총임직원', 'a': '16756'}, {'base_month': '202309', 'finance_cd': '0010927', 'finance_nm': '국민은행', 'account_cd': 'B', 'account_nm': '해외근무임직원', 'a': '264'}, {'base_month': '202309', 'finance_cd': '0010927', 'finance_nm': '국민은행', 'account_cd': 'C', 'account_nm': '현지채용임직원', 'a': ' '}, {'base_month': '202309', 'finance_cd': '0010927', 'finance_nm': '국민은행', 'account_cd': 'D', 'account_nm': '직원외인원', 'a': '3659'}, {'base_month': '202312', 'finance_cd': '0010927', 'finance_nm': '국민은행', 'account_cd': 'A1', 'account_nm': '임원', 'a': '45'}, {'base_month': '202312', 'finance_cd': '0010927', 'finance_nm': '국민은행', 'account_cd': 'A11', 'account_nm': '임원_상임임원', 'a': ' '}, {'base_month': '202312', 'finance_cd': '0010927', 'finance_nm': '국민은행', 'account_cd': 'A12', 'account_nm': '임원_비상임임원', 'a': ' '}, {'base_month': '202312', 'finance_cd': '0010927', 'finance_nm': '국민은행', 'account_cd': 'A13', 'account_nm': '임원_이사대우', 'a': '37'}, {'base_month': '202312', 'finance_cd': '0010927', 'finance_nm': '국민은행', 'account_cd': 'A2', 'account_nm': '일반직원', 'a': ' '}, {'base_month': '202312', 'finance_cd': '0010927', 'finance_nm': '국민은행', 'account_cd': 'A21', 'account_nm': '일반직원_책임자', 'a': ' '}, {'base_month': '202312', 'finance_cd': '0010927', 'finance_nm': '국민은행', 'account_cd': 'A22', 'account_nm': '일반직원_행원', 'a': ' '}, {'base_month': '202312', 'finance_cd': '0010927', 'finance_nm': '국민은행', 'account_cd': 'A3', 'account_nm': '서무직원', 'a': ' '}, {'base_month': '202312', 'finance_cd': '0010927', 'finance_nm': '국민은행', 'account_cd': 'A4', 'account_nm': '별정직원', 'a': ' '}, {'base_month': '202312', 'finance_cd': '0010927', 'finance_nm': '국민은행', 'account_cd': 'A5', 'account_nm': '무기계약직원', 'a': ' '}, {'base_month': '202312', 'finance_cd': '0010927', 'finance_nm': '국민은행', 'account_cd': 'A', 'account_nm': '총임직원', 'a': '16514'}, {'base_month': '202312', 'finance_cd': '0010927', 'finance_nm': '국민은행', 'account_cd': 'B', 'account_nm': '해외근무임직원', 'a': '270'}, {'base_month': '202312', 'finance_cd': '0010927', 'finance_nm': '국민은행', 'account_cd': 'C', 'account_nm': '현지채용임직원', 'a': ' '}, {'base_month': '202312', 'finance_cd': '0010927', 'finance_nm': '국민은행', 'account_cd': 'D', 'account_nm': '직원외인원', 'a': '3657'}, {'base_month': '202403', 'finance_cd': '0010927', 'finance_nm': '국민은행', 'account_cd': 'A1', 'account_nm': '임원', 'a': '46'}, {'base_month': '202403', 'finance_cd': '0010927', 'finance_nm': '국민은행', 'account_cd': 'A11', 'account_nm': '임원_상임임원', 'a': ' '}, {'base_month': '202403', 'finance_cd': '0010927', 'finance_nm': '국민은행', 'account_cd': 'A12', 'account_nm': '임원_비상임임원', 'a': ' '}, {'base_month': '202403', 'finance_cd': '0010927', 'finance_nm': '국민은행', 'account_cd': 'A13', 'account_nm': '임원_이사대우', 'a': '38'}, {'base_month': '202403', 'finance_cd': '0010927', 'finance_nm': '국민은행', 'account_cd': 'A2', 'account_nm': '일반직원', 'a': ' '}, {'base_month': '202403', 'finance_cd': '0010927', 'finance_nm': '국민은행', 'account_cd': 'A21', 'account_nm': '일반직원_책임자', 'a': ' '}, {'base_month': '202403', 'finance_cd': '0010927', 'finance_nm': '국민은행', 'account_cd': 'A22', 'account_nm': '일반직원_행원', 'a': ' '}, {'base_month': '202403', 'finance_cd': '0010927', 'finance_nm': '국민은행', 'account_cd': 'A3', 'account_nm': '서무직원', 'a': ' '}, {'base_month': '202403', 'finance_cd': '0010927', 'finance_nm': '국민은행', 'account_cd': 'A4', 'account_nm': '별정직원', 'a': ' '}, {'base_month': '202403', 'finance_cd': '0010927', 'finance_nm': '국민은행', 'account_cd': 'A5', 'account_nm': '무기계약직원', 'a': ' '}, {'base_month': '202403', 'finance_cd': '0010927', 'finance_nm': '국민은행', 'account_cd': 'A', 'account_nm': '총임직원', 'a': '16141'}, {'base_month': '202403', 'finance_cd': '0010927', 'finance_nm': '국민은행', 'account_cd': 'B', 'account_nm': '해외근무임직원', 'a': '282'}, {'base_month': '202403', 'finance_cd': '0010927', 'finance_nm': '국민은행', 'account_cd': 'C', 'account_nm': '현지채용임직원', 'a': ' '}, {'base_month': '202403', 'finance_cd': '0010927', 'finance_nm': '국민은행', 'account_cd': 'D', 'account_nm': '직원외인원', 'a': '3606'}]}}\n"
          ]
        }
      ],
      "source": [
        "print(json_data)"
      ]
    }
  ]
}