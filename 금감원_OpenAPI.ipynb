{
  "nbformat": 4,
  "nbformat_minor": 0,
  "metadata": {
    "colab": {
      "provenance": [],
      "authorship_tag": "ABX9TyOhgP8aVHG8oXrXgfbMqOMG",
      "include_colab_link": true
    },
    "kernelspec": {
      "name": "python3",
      "display_name": "Python 3"
    },
    "language_info": {
      "name": "python"
    }
  },
  "cells": [
    {
      "cell_type": "markdown",
      "metadata": {
        "id": "view-in-github",
        "colab_type": "text"
      },
      "source": [
        "<a href=\"https://colab.research.google.com/github/cras-lab/OpenAPI/blob/main/%EA%B8%88%EA%B0%90%EC%9B%90_OpenAPI.ipynb\" target=\"_parent\"><img src=\"https://colab.research.google.com/assets/colab-badge.svg\" alt=\"Open In Colab\"/></a>"
      ]
    },
    {
      "cell_type": "markdown",
      "source": [
        "필요한 모듈을 임포트 한다."
      ],
      "metadata": {
        "id": "gwSSbxfWixus"
      }
    },
    {
      "cell_type": "code",
      "source": [
        "import requests\n",
        "import pandas as pd\n",
        "import matplotlib.pyplot as plt"
      ],
      "metadata": {
        "id": "XLMkM01yi4P1"
      },
      "execution_count": 1,
      "outputs": []
    },
    {
      "cell_type": "markdown",
      "source": [
        "금융감독원 OpenAPI 엔드포인트 및 인증 키 (실제 본인의 키로 대체해야 함)\n",
        "\n"
      ],
      "metadata": {
        "id": "HTUst82Vi6zq"
      }
    },
    {
      "cell_type": "code",
      "source": [
        "API_KEY = \"99fdf30d1119b9e834d5ad44757ff97f\"\n",
        "BASE_URL = \"https://fisis.fss.or.kr/openapi/statisticsInfoSearch.json\""
      ],
      "metadata": {
        "id": "W84psaHUjFWl"
      },
      "execution_count": 3,
      "outputs": []
    },
    {
      "cell_type": "markdown",
      "source": [
        "매개변수를 설정한다."
      ],
      "metadata": {
        "id": "JfKVLwLXjRhL"
      }
    },
    {
      "cell_type": "code",
      "source": [
        "params = {\n",
        "  \"lang\": \"kr\",  # 사용언어\n",
        "  \"auth\": API_KEY, # 본인의 감독원 API\n",
        "  \"financeCd\": \"0010927\",  # KB은행 코드\n",
        "  \"listNo\": \"SA001\",  # 임직원 수\n",
        "  \"term\": \"Q\",  # 조회기간 - 분기별\n",
        "  \"startBaseMm\": \"202306\",  # 검색시작일\n",
        "  \"endBaseMm\": \"202406\" # 검색종료일\n",
        "}"
      ],
      "metadata": {
        "id": "xz5_2uQajWJ1"
      },
      "execution_count": 4,
      "outputs": []
    },
    {
      "cell_type": "markdown",
      "source": [
        "Open API를 호출한 다음. 가져온 값을 Json으로 보관한다."
      ],
      "metadata": {
        "id": "4r2YQ4G4jaMq"
      }
    },
    {
      "cell_type": "code",
      "source": [
        "response = requests.get(BASE_URL, params=params)\n",
        "json_data = response.json()"
      ],
      "metadata": {
        "id": "U62RgUmRjhZm"
      },
      "execution_count": 5,
      "outputs": []
    },
    {
      "cell_type": "markdown",
      "source": [
        "json_data를 출력해 본다."
      ],
      "metadata": {
        "id": "AVHLYx-9jjZQ"
      }
    },
    {
      "cell_type": "code",
      "execution_count": null,
      "metadata": {
        "id": "pqZUDz1RVu0L"
      },
      "outputs": [],
      "source": [
        "print(json_data)"
      ]
    }
  ]
}