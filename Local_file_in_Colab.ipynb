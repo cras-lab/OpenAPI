{
  "nbformat": 4,
  "nbformat_minor": 0,
  "metadata": {
    "colab": {
      "provenance": [],
      "authorship_tag": "ABX9TyNAFHBFE+clFshc9DKtXZkh",
      "include_colab_link": true
    },
    "kernelspec": {
      "name": "python3",
      "display_name": "Python 3"
    },
    "language_info": {
      "name": "python"
    }
  },
  "cells": [
    {
      "cell_type": "markdown",
      "metadata": {
        "id": "view-in-github",
        "colab_type": "text"
      },
      "source": [
        "<a href=\"https://colab.research.google.com/github/cras-lab/OpenAPI/blob/main/Local_file_in_Colab.ipynb\" target=\"_parent\"><img src=\"https://colab.research.google.com/assets/colab-badge.svg\" alt=\"Open In Colab\"/></a>"
      ]
    },
    {
      "cell_type": "markdown",
      "source": [
        "로컬에 있는 파일을 colab에 upload하는 방법 <BR>\n",
        "이 예제는 액셀을 업로드 한다.\n"
      ],
      "metadata": {
        "id": "MyuJd2VdFTcj"
      }
    },
    {
      "cell_type": "markdown",
      "source": [
        "먼저 필요한 모듈을 임포트 한다."
      ],
      "metadata": {
        "id": "N8Kx6m4FfHKv"
      }
    },
    {
      "cell_type": "code",
      "source": [
        "from google.colab import files\n",
        "import pandas as pd\n",
        "import os"
      ],
      "metadata": {
        "id": "cX9wkM3mF-h2"
      },
      "execution_count": 1,
      "outputs": []
    },
    {
      "cell_type": "markdown",
      "source": [
        "파일 팝업 다이어로그를 통해 파일을 코랩으로 업로드 한다.<BR>\n",
        "예제는 하나의 액셀파일을 로드한다고 가정하고 한다."
      ],
      "metadata": {
        "id": "Zke_zBOAGLdp"
      }
    },
    {
      "cell_type": "code",
      "source": [
        "uploaded = files.upload()"
      ],
      "metadata": {
        "id": "gsWK2UWHGQt_"
      },
      "execution_count": null,
      "outputs": []
    },
    {
      "cell_type": "markdown",
      "source": [
        "업로드한 파일(들) 이름 중 첫번째 이름을 filename에 저장한다."
      ],
      "metadata": {
        "id": "bCCKeRSSGUGJ"
      }
    },
    {
      "cell_type": "code",
      "source": [
        "filename = list(uploaded.keys())[0]"
      ],
      "metadata": {
        "id": "TTscNGM3K9nK"
      },
      "execution_count": 3,
      "outputs": []
    },
    {
      "cell_type": "markdown",
      "source": [
        "Colab에 업로드 된 모든 내용은 /content 폴더에 저장된다.<BR>\n",
        "따라서 업로드한 파일의 전체 경로를 이를 고려해 작성해야 한다."
      ],
      "metadata": {
        "id": "1E7Mh2yuLEo6"
      }
    },
    {
      "cell_type": "code",
      "source": [
        "src_path = \"/content/\" + filename"
      ],
      "metadata": {
        "id": "qk-5I2gDLVOT"
      },
      "execution_count": 4,
      "outputs": []
    },
    {
      "cell_type": "markdown",
      "source": [
        "이제 실제로 액셀파일을 읽어 들인 후 df 데이터프레임에 저장한다.<BR>\n",
        "CSV는 read_csv로 .xls와 xlsx는 read_excel로 읽어야 한다.<BR>\n",
        "따라서 확장자를 보고 적절한 함수를 호출한다."
      ],
      "metadata": {
        "id": "IcJn6n88LCsk"
      }
    },
    {
      "cell_type": "code",
      "source": [
        "_, file_extension = os.path.splitext(src_path)\n",
        "\n",
        "if file_extension == '.csv':\n",
        "  df = pd.read_csv(src_path, index_col=0)\n",
        "elif file_extension in ['.xls', '.xlsx']:\n",
        "  df = pd.read_excel(src_path, index_col=0)\n",
        "else:\n",
        "  raise ValueError(\"Unsupported file extension: {}\".format(file_extension))"
      ],
      "metadata": {
        "id": "Co8Q1mS-Lf94"
      },
      "execution_count": 8,
      "outputs": []
    },
    {
      "cell_type": "markdown",
      "source": [
        "제대로 읽었는지 df를 출력해 본다."
      ],
      "metadata": {
        "id": "R-ddIm3VK_tJ"
      }
    },
    {
      "cell_type": "code",
      "source": [
        "print(df)"
      ],
      "metadata": {
        "id": "VrkGmFTNyQhI"
      },
      "execution_count": null,
      "outputs": []
    }
  ]
}