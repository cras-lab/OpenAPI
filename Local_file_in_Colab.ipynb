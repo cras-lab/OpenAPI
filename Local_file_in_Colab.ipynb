{
  "nbformat": 4,
  "nbformat_minor": 0,
  "metadata": {
    "colab": {
      "provenance": [],
      "authorship_tag": "ABX9TyNvPnsNA5OMO0gZWh2rw2j/",
      "include_colab_link": true
    },
    "kernelspec": {
      "name": "python3",
      "display_name": "Python 3"
    },
    "language_info": {
      "name": "python"
    }
  },
  "cells": [
    {
      "cell_type": "markdown",
      "metadata": {
        "id": "view-in-github",
        "colab_type": "text"
      },
      "source": [
        "<a href=\"https://colab.research.google.com/github/cras-lab/OpenAPI/blob/main/Local_file_in_Colab.ipynb\" target=\"_parent\"><img src=\"https://colab.research.google.com/assets/colab-badge.svg\" alt=\"Open In Colab\"/></a>"
      ]
    },
    {
      "cell_type": "markdown",
      "source": [
        "Colab에서 파일을 다루는 여러가지 방법을 살펴본다. <BR>\n",
        "1. 로컬에 있는 파일을 colab에 upload하는 방법 <BR>\n",
        "2. upload된 파일을 구글 드라이브에 저장\n",
        "3. API로 얻은 데이터프레이을 구글 드라이브에 저장하는 방법 <BR>\n",
        "4. 구글 드라이브에 있는 액셀 파일을 로딩하는 방법 <BR>"
      ],
      "metadata": {
        "id": "MyuJd2VdFTcj"
      }
    },
    {
      "cell_type": "markdown",
      "source": [
        "1. 로컬에 있는 파일을 colab에 upload하는 방법 <BR>\n",
        "먼저 필요한 모듈을 임포트 한다."
      ],
      "metadata": {
        "id": "6BFpWOipGAgF"
      }
    },
    {
      "cell_type": "code",
      "source": [
        "from google.colab import files\n",
        "import pandas as pd\n",
        "import os"
      ],
      "metadata": {
        "id": "cX9wkM3mF-h2"
      },
      "execution_count": null,
      "outputs": []
    },
    {
      "cell_type": "markdown",
      "source": [
        "파일 팝업 다이어로그를 통해 파일을 코랩으로 업로드 한다.<BR>\n",
        "예제는 하나의 액셀파일을 로드한다고 가정하고 한다. 다수의 파일이나, 액셀이 아닌 .csv 등을 업로드하면 오류가 발생한다."
      ],
      "metadata": {
        "id": "Zke_zBOAGLdp"
      }
    },
    {
      "cell_type": "code",
      "source": [
        "uploaded = files.upload()"
      ],
      "metadata": {
        "id": "gsWK2UWHGQt_"
      },
      "execution_count": null,
      "outputs": []
    },
    {
      "cell_type": "markdown",
      "source": [
        "업로드한 파일(들) 이름 중 첫번째 이름을 filename에 저장한다."
      ],
      "metadata": {
        "id": "bCCKeRSSGUGJ"
      }
    },
    {
      "cell_type": "code",
      "source": [
        "filename = list(uploaded.keys())[0]"
      ],
      "metadata": {
        "id": "TTscNGM3K9nK"
      },
      "execution_count": null,
      "outputs": []
    },
    {
      "cell_type": "markdown",
      "source": [
        "Colab에 업로드 된 모든 내용은 /content 폴더에 저장된다.<BR>\n",
        "따라서 업로드한 파일의 전체 경로를 이를 고려해 작성해야 한다."
      ],
      "metadata": {
        "id": "1E7Mh2yuLEo6"
      }
    },
    {
      "cell_type": "code",
      "source": [
        "src_path = \"/content/\" + filename"
      ],
      "metadata": {
        "id": "qk-5I2gDLVOT"
      },
      "execution_count": null,
      "outputs": []
    },
    {
      "cell_type": "markdown",
      "source": [
        "이제 실제로 액셀파일을 읽어 들인 후 df 데이터프레임에 저장한다.<BR>\n",
        "CSV는 read_csv로 .xls와 xlsx는 read_excel로 읽어야 한다.<BR>\n",
        "따라서 확장자를 보고 적절한 함수를 호출한다."
      ],
      "metadata": {
        "id": "IcJn6n88LCsk"
      }
    },
    {
      "cell_type": "code",
      "source": [
        "_, file_extension = os.path.splitext(src_path)\n",
        "\n",
        "if file_extension == '.csv':\n",
        "  df = pd.read_csv(src_path)\n",
        "elif file_extension in ['.xls', '.xlsx']:\n",
        "  df = pd.read_excel(src_path)\n",
        "else:\n",
        "  raise ValueError(\"Unsupported file extension: {}\".format(file_extension))"
      ],
      "metadata": {
        "id": "Co8Q1mS-Lf94"
      },
      "execution_count": null,
      "outputs": []
    },
    {
      "cell_type": "markdown",
      "source": [
        "제대로 읽었는지 df를 출력해 본다."
      ],
      "metadata": {
        "id": "R-ddIm3VK_tJ"
      }
    },
    {
      "cell_type": "code",
      "source": [
        "print(df)"
      ],
      "metadata": {
        "id": "LqabOJF1LljF"
      },
      "execution_count": null,
      "outputs": []
    }
  ]
}