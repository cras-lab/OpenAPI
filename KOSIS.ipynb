{
  "nbformat": 4,
  "nbformat_minor": 0,
  "metadata": {
    "colab": {
      "provenance": [],
      "authorship_tag": "ABX9TyPwd6G3zQQxep0yswsmh+tB",
      "include_colab_link": true
    },
    "kernelspec": {
      "name": "python3",
      "display_name": "Python 3"
    },
    "language_info": {
      "name": "python"
    }
  },
  "cells": [
    {
      "cell_type": "markdown",
      "metadata": {
        "id": "view-in-github",
        "colab_type": "text"
      },
      "source": [
        "<a href=\"https://colab.research.google.com/github/cras-lab/OpenAPI/blob/main/KOSIS.ipynb\" target=\"_parent\"><img src=\"https://colab.research.google.com/assets/colab-badge.svg\" alt=\"Open In Colab\"/></a>"
      ]
    },
    {
      "cell_type": "markdown",
      "source": [
        "KOSIS 홈페이지에서 생성한 Query를 그대로 가져와서 호출하는 예제<BR>\n",
        "1) 홈페이지 생성 Query를 그대로 활용<BR>\n",
        "2) Pandas 데이터프레임으로 가공해서 본다.<BR>\n",
        "3) CSV 파일로 저정한 후 액셀로 살펴본다."
      ],
      "metadata": {
        "id": "UVRsAt4tn634"
      }
    },
    {
      "cell_type": "markdown",
      "source": [
        "필요한 모듈을 임포트 한다."
      ],
      "metadata": {
        "id": "0F9_c2psz_Nu"
      }
    },
    {
      "cell_type": "markdown",
      "source": [],
      "metadata": {
        "id": "FoRs_wAcX8F5"
      }
    },
    {
      "cell_type": "code",
      "source": [
        "import requests"
      ],
      "metadata": {
        "id": "cQlOG_6I0HCL"
      },
      "execution_count": 1,
      "outputs": []
    },
    {
      "cell_type": "markdown",
      "source": [
        "KOSIS에서 복사해온 값을 Q에 넣는다. 너무 길면 맨 뒤에 \\를 사용해서\n",
        "여러 줄로 만들어 도 된다.\n"
      ],
      "metadata": {
        "id": "BLr6otnu0I2N"
      }
    },
    {
      "cell_type": "code",
      "execution_count": 2,
      "metadata": {
        "id": "mQ4gy3kHLtLW"
      },
      "outputs": [],
      "source": [
        "Q = \"https://kosis.kr/openapi/Param/statisticsParameterData.do?method=getList&apiKey=NTc5N2I2NWFlY2U2MWUyMTNhZTAxODc3NGVjN2JjM2Q=&itmId=T1+&objL1=ALL\\\n",
        "&objL2=&objL3=&objL4=&objL5=&objL6=&objL7=&objL8=&format=json&jsonVD=Y&prdSe=Y&startPrdDe=2000&endPrdDe=2023&orgId=101&tblId=DT_1B8000F\""
      ]
    },
    {
      "cell_type": "markdown",
      "source": [
        "API를 호출한다."
      ],
      "metadata": {
        "id": "CLyh7HfV0UPm"
      }
    },
    {
      "cell_type": "code",
      "source": [
        "# API 요청\n",
        "response = requests.get(Q)"
      ],
      "metadata": {
        "id": "ozSDujzK0Xg1"
      },
      "execution_count": 3,
      "outputs": []
    },
    {
      "cell_type": "markdown",
      "source": [
        "반환값 중 JSON 부분만 추출한다."
      ],
      "metadata": {
        "id": "NjU02Frw0d4a"
      }
    },
    {
      "cell_type": "code",
      "source": [
        "json_data = response.json()"
      ],
      "metadata": {
        "id": "18uHhpfT0ki6"
      },
      "execution_count": 4,
      "outputs": []
    },
    {
      "cell_type": "markdown",
      "source": [
        "JSON을 출력해 본다."
      ],
      "metadata": {
        "id": "7Pk0aOi50mrc"
      }
    },
    {
      "cell_type": "code",
      "source": [
        "# 응답 데이터 확인\n",
        "print(json_data)"
      ],
      "metadata": {
        "id": "9J9hsC-f0dhu"
      },
      "execution_count": null,
      "outputs": []
    },
    {
      "cell_type": "markdown",
      "source": [
        "JSON 데이터는 간단히 Pandas DataFrame으로 변환할 수 있다."
      ],
      "metadata": {
        "id": "tLEbcfSA2Kiz"
      }
    },
    {
      "cell_type": "code",
      "source": [
        "import pandas as pd\n",
        "df= pd.json_normalize(json_data)"
      ],
      "metadata": {
        "id": "PvmNbJfcCqjA"
      },
      "execution_count": 6,
      "outputs": []
    },
    {
      "cell_type": "markdown",
      "source": [
        "변환한 데이터프레임을 출력해 보자."
      ],
      "metadata": {
        "id": "Qd3kBo5JCsvo"
      }
    },
    {
      "cell_type": "code",
      "source": [
        "print(df)"
      ],
      "metadata": {
        "id": "Zcmn1be7C3-U"
      },
      "execution_count": null,
      "outputs": []
    },
    {
      "cell_type": "markdown",
      "source": [
        "무언가 이상하다. 2000년부터 2023년이면 24년치 데이터로서 행이 24개만 있을 줄 알았는데, 379개의 행이 있다."
      ],
      "metadata": {
        "id": "xqSOSIMfDA41"
      }
    },
    {
      "cell_type": "markdown",
      "source": [
        "전체에서 3개의 열('PRD_DE', 'DT', 'C1')만 추출해서 보자"
      ],
      "metadata": {
        "id": "5lPQDAsODVrt"
      }
    },
    {
      "cell_type": "code",
      "source": [
        "df2 = df[['PRD_DE', 'DT', 'C1']]"
      ],
      "metadata": {
        "id": "kk_rAmvhDRme"
      },
      "execution_count": 8,
      "outputs": []
    },
    {
      "cell_type": "markdown",
      "source": [
        "나중에 연산을 위해 일단 모든 값이 수치 값이 되도록 하자."
      ],
      "metadata": {
        "id": "EASYqCLoSE6H"
      }
    },
    {
      "cell_type": "code",
      "source": [
        "df2.loc[:, 'DT'] = pd.to_numeric(df2['DT'], errors='coerce')\n",
        "df2.loc[:, 'PRD_DE'] = pd.to_numeric(df2['PRD_DE'], errors='coerce')"
      ],
      "metadata": {
        "id": "e1ilJ5mzSMDy"
      },
      "execution_count": 9,
      "outputs": []
    },
    {
      "cell_type": "markdown",
      "source": [
        "맨 앞 30개만 출력해 보자."
      ],
      "metadata": {
        "id": "phfEeG5pDe6m"
      }
    },
    {
      "cell_type": "code",
      "source": [
        "df2.head(30)"
      ],
      "metadata": {
        "id": "zqQRQJz9CwJg"
      },
      "execution_count": null,
      "outputs": []
    },
    {
      "cell_type": "markdown",
      "source": [
        "JSON의 중첩구조를 제대로 parsing하지 못해 여러개 열이 합쳐졌다.<BR>이를\n",
        "분리해 보자."
      ],
      "metadata": {
        "id": "QNlCqSONDTRP"
      }
    },
    {
      "cell_type": "markdown",
      "source": [
        "우선 2023년부터 2000년까지가 중복되니까 분리할 개수를 계산하자."
      ],
      "metadata": {
        "id": "GPBM7jJhDwx1"
      }
    },
    {
      "cell_type": "code",
      "source": [
        "# 행을 24개씩 자르고 이를 열로 변환\n",
        "chunk_size = 2023 - 2000 +1"
      ],
      "metadata": {
        "id": "YZPWiwU2D5es"
      },
      "execution_count": 11,
      "outputs": []
    },
    {
      "cell_type": "markdown",
      "source": [
        "우선 chunk_size에 맞게 df를 분리해 하나의 list로 만들어 보자."
      ],
      "metadata": {
        "id": "bqwHhdDFEKso"
      }
    },
    {
      "cell_type": "code",
      "source": [
        "chunks = [df2[i:i + chunk_size] for i in range(0, len(df2), chunk_size)]"
      ],
      "metadata": {
        "id": "j2nPMSsnEKGU"
      },
      "execution_count": 12,
      "outputs": []
    },
    {
      "cell_type": "markdown",
      "source": [
        "chunks가 어떤 모습인지 출력해 보자"
      ],
      "metadata": {
        "id": "sGQIKSZCES5Y"
      }
    },
    {
      "cell_type": "code",
      "source": [
        "print(chunks)"
      ],
      "metadata": {
        "id": "uLQOfSUiDwUc"
      },
      "execution_count": null,
      "outputs": []
    },
    {
      "cell_type": "markdown",
      "source": [
        "이제 chunks는 전체 df를 각각의 원소가 df인 여러 부분 df를 가진 하나의  긴 리스트로 만들었다."
      ],
      "metadata": {
        "id": "YT9gBxb6FSZr"
      }
    },
    {
      "cell_type": "markdown",
      "source": [
        "이제 이 여러 df의 리스트를 하나의 DataFrame으로 결합하자. 새로운 DF의 인덱스는<BR>\n",
        "연도로 설정한다."
      ],
      "metadata": {
        "id": "OVUZO-fSFkPb"
      }
    },
    {
      "cell_type": "code",
      "source": [
        "# 각 조각을 하나의 DataFrame으로 결합\n",
        "df_transformed = pd.concat([chunk.set_index('PRD_DE').reset_index(drop=True) for chunk in chunks], axis=1)"
      ],
      "metadata": {
        "id": "rnfkp16iFxFY"
      },
      "execution_count": 14,
      "outputs": []
    },
    {
      "cell_type": "markdown",
      "source": [
        "변환된 df를 출력해 보자."
      ],
      "metadata": {
        "id": "ZuIuPcyKGCAf"
      }
    },
    {
      "cell_type": "code",
      "source": [
        "print(df_transformed)"
      ],
      "metadata": {
        "id": "-lSqvf02FjRp"
      },
      "execution_count": null,
      "outputs": []
    },
    {
      "cell_type": "markdown",
      "source": [
        "열이름이 중복해서 들어갔으니, 각 열이름뒤에 일련번호를 증가시켜 다른 이름을 부여한다."
      ],
      "metadata": {
        "id": "zrX27pnwTj0Q"
      }
    },
    {
      "cell_type": "code",
      "source": [
        "# 열 이름 재정의\n",
        "new_columns = []\n",
        "for i, col in enumerate(df_transformed.columns):\n",
        "    chunk_num = (i // (2 * chunk_size // chunk_size)) + 1  # 각 그룹은 2개의 열(DT, CI)로 구성됨\n",
        "    col_type = 'DT' if 'DT' in col else 'CI'  # 'DT'와 'CI' 구분\n",
        "    new_columns.append(f'{col_type}_{chunk_num}')"
      ],
      "metadata": {
        "id": "l75vLKK_TxTI"
      },
      "execution_count": 16,
      "outputs": []
    },
    {
      "cell_type": "markdown",
      "source": [
        "새로 생성한 이름 규칙에 따른 리스트를 df_transformed 열 이름으로 지정하자."
      ],
      "metadata": {
        "id": "i418J5TET0jO"
      }
    },
    {
      "cell_type": "code",
      "source": [
        "df_transformed.columns = new_columns"
      ],
      "metadata": {
        "id": "tgvZ6LiST9Kp"
      },
      "execution_count": 17,
      "outputs": []
    },
    {
      "cell_type": "markdown",
      "source": [
        "인덱스는 PRD_DE의 연도로 설정하자."
      ],
      "metadata": {
        "id": "uxlnFSCdUAN4"
      }
    },
    {
      "cell_type": "code",
      "source": [
        "# 인덱스 재설정\n",
        "df_transformed.index = df2['PRD_DE'][:chunk_size].values"
      ],
      "metadata": {
        "id": "orp3xFrYUN5x"
      },
      "execution_count": 18,
      "outputs": []
    },
    {
      "cell_type": "markdown",
      "source": [
        "최종적으로 변환된 데이터프레임을 출력해 보자."
      ],
      "metadata": {
        "id": "AFw-52_mUU12"
      }
    },
    {
      "cell_type": "code",
      "source": [
        "print(df_transformed)"
      ],
      "metadata": {
        "id": "5_jy-ZV5UYvV"
      },
      "execution_count": null,
      "outputs": []
    },
    {
      "cell_type": "markdown",
      "source": [
        "최종 데이터프레임은 Pandas의 기본 함수를 이용해 쉽게 도식화 해 볼 수 있다.\n",
        "<BR>우선 2000년 부터 2023년까지 해마다 태아난 신생아 수 변화를 그래프로 그려보자."
      ],
      "metadata": {
        "id": "n-3UvsQDUdEt"
      }
    },
    {
      "cell_type": "code",
      "source": [
        "df_transformed.DT_1.plot()"
      ],
      "metadata": {
        "id": "_1mdPvGtUS-S"
      },
      "execution_count": null,
      "outputs": []
    },
    {
      "cell_type": "markdown",
      "source": [
        "전체를 CSV 파일로 저장해 보자."
      ],
      "metadata": {
        "id": "pPvc9VOeXgo7"
      }
    },
    {
      "cell_type": "code",
      "source": [
        "df_transformed.to_csv('KOSIS_data.csv')"
      ],
      "metadata": {
        "id": "5TxfeWKrXkrk"
      },
      "execution_count": null,
      "outputs": []
    }
  ]
}