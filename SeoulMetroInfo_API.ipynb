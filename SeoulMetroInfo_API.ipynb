{
  "nbformat": 4,
  "nbformat_minor": 0,
  "metadata": {
    "colab": {
      "provenance": [],
      "authorship_tag": "ABX9TyNZCzq+yvIFihcwCjUP2apA",
      "include_colab_link": true
    },
    "kernelspec": {
      "name": "python3",
      "display_name": "Python 3"
    },
    "language_info": {
      "name": "python"
    }
  },
  "cells": [
    {
      "cell_type": "markdown",
      "metadata": {
        "id": "view-in-github",
        "colab_type": "text"
      },
      "source": [
        "<a href=\"https://colab.research.google.com/github/cras-lab/OpenAPI/blob/main/SeoulMetroInfo_API.ipynb\" target=\"_parent\"><img src=\"https://colab.research.google.com/assets/colab-badge.svg\" alt=\"Open In Colab\"/></a>"
      ]
    },
    {
      "cell_type": "markdown",
      "source": [
        "필요데이터를 JSON으로 불러오기 위해, 필요한 모듈을 임포트 한다."
      ],
      "metadata": {
        "id": "3uTp7y1CdtBZ"
      }
    },
    {
      "cell_type": "code",
      "source": [
        "import urllib.request\n",
        "import json"
      ],
      "metadata": {
        "id": "quPXA0BJdqru"
      },
      "execution_count": 19,
      "outputs": []
    },
    {
      "cell_type": "markdown",
      "source": [
        "역이름과 날짜 시각을 주면, 해당 열차 정보를 반환하는 함수를 하나 정의한다."
      ],
      "metadata": {
        "id": "uxxREHECd2G3"
      }
    },
    {
      "cell_type": "code",
      "source": [
        "def get_subway_info(api_key, station_name, date, time):\n",
        "    # URL 인코딩을 위해 station_name을 인코딩합니다.\n",
        "    station_name_encoded = urllib.parse.quote(station_name)\n",
        "    url = f\"http://swopenapi.seoul.go.kr/api/subway/{api_key}/json/realtimeStationArrival/0/5/{station_name_encoded}\"\n",
        "    with urllib.request.urlopen(url) as response:\n",
        "        data = json.loads(response.read().decode('utf-8'))\n",
        "\n",
        "\n",
        "            # 응답 데이터를 보기 쉽게 출력합니다.\n",
        "        output = []\n",
        "        output.append(\"Response Data:\")\n",
        "        output.append(pprint.pformat(data, indent=4, width=80, compact=False))\n",
        "\n",
        "        if \"errorMessage\" in data:\n",
        "            print(\"Error:\", data[\"errorMessage\"][\"message\"])\n",
        "        else:\n",
        "            arrivals = data['realtimeArrivalList']\n",
        "            for arrival in arrivals:\n",
        "                arrival_time = arrival['recptnDt'].split(' ')[1]\n",
        "                if arrival['recptnDt'].startswith(date) and arrival_time.startswith(time):\n",
        "                    print(f\"역 이름: {arrival['statnNm']}\")\n",
        "                    print(f\"열차 번호: {arrival['trainNo']}\")\n",
        "                    print(f\"도착 예정 시간: {arrival['arvlMsg2']}\")\n",
        "                    print(f\"현재 위치: {arrival['arvlMsg3']}\")\n",
        "                    print(f\"운행 방향: {arrival['updnLine']}\")\n",
        "                    print(\"------------\")\n",
        "    return \"\\n\".join(output)\n"
      ],
      "metadata": {
        "id": "DFRI63iGbaOQ"
      },
      "execution_count": 27,
      "outputs": []
    },
    {
      "cell_type": "markdown",
      "source": [
        "서울열린데이터 광장에서 발급받은 API 키를 설정한다."
      ],
      "metadata": {
        "id": "5XupSBOkd9Qu"
      }
    },
    {
      "cell_type": "code",
      "source": [
        "api_key = \"42477864496f6b6133356455666f56\"  # 이곳에는 각자 본인의 실제 발급받은 API 키를 입력하세요."
      ],
      "metadata": {
        "id": "2pqM-J_ZeNSR"
      },
      "execution_count": 28,
      "outputs": []
    },
    {
      "cell_type": "markdown",
      "source": [
        "역이름과 날짜, 시각을 설정한다."
      ],
      "metadata": {
        "id": "RoyrBHGbeWyf"
      }
    },
    {
      "cell_type": "code",
      "source": [
        "station_name = \"서울\"  # 검색할 지하철 역 이름\n",
        "date = \"2024-07-20\"  # 검색할 날짜 (YYYY-MM-DD 형식)\n",
        "time = \"15:00\"  # 검색할 시간 (HH:MM 형식)"
      ],
      "metadata": {
        "id": "JdcIZTiJebQd"
      },
      "execution_count": 29,
      "outputs": []
    },
    {
      "cell_type": "markdown",
      "source": [
        "서울열린데이터 광장의 지하철 정보에 직접 접속해서 값을 읽고, 출력한다."
      ],
      "metadata": {
        "id": "8HF7J_dtef18"
      }
    },
    {
      "cell_type": "code",
      "source": [
        "# 예제 호출\n",
        "print( get_subway_info(api_key, station_name, date, time) )"
      ],
      "metadata": {
        "id": "hcn1wfZXd9o_"
      },
      "execution_count": null,
      "outputs": []
    }
  ]
}