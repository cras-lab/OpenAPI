{
  "nbformat": 4,
  "nbformat_minor": 0,
  "metadata": {
    "colab": {
      "provenance": [],
      "authorship_tag": "ABX9TyNtPZylhXLzUe/Cm0IM42O1",
      "include_colab_link": true
    },
    "kernelspec": {
      "name": "python3",
      "display_name": "Python 3"
    },
    "language_info": {
      "name": "python"
    }
  },
  "cells": [
    {
      "cell_type": "markdown",
      "metadata": {
        "id": "view-in-github",
        "colab_type": "text"
      },
      "source": [
        "<a href=\"https://colab.research.google.com/github/cras-lab/OpenAPI/blob/main/SeoulMetroInfo_API.ipynb\" target=\"_parent\"><img src=\"https://colab.research.google.com/assets/colab-badge.svg\" alt=\"Open In Colab\"/></a>"
      ]
    },
    {
      "cell_type": "markdown",
      "source": [
        "각자 자신의 API 키를 설정한다."
      ],
      "metadata": {
        "id": "3uTp7y1CdtBZ"
      }
    },
    {
      "cell_type": "code",
      "source": [
        "api_key = \"42477864496f6b6133356455666f56\"  # 이곳에는 각자 본인의 실제 발급받은 API 키를 입력한다."
      ],
      "metadata": {
        "id": "2pqM-J_ZeNSR"
      },
      "execution_count": 43,
      "outputs": []
    },
    {
      "cell_type": "markdown",
      "source": [
        "필요한 모듈을 임포트 한다."
      ],
      "metadata": {
        "id": "I9cBs5FDAlM0"
      }
    },
    {
      "cell_type": "code",
      "source": [
        "필요한 모듈을 임포트 한import requests\n",
        "import pandas as pd\n",
        "import json다."
      ],
      "metadata": {
        "id": "Tpe-oFuUAeDq"
      },
      "execution_count": null,
      "outputs": []
    },
    {
      "cell_type": "markdown",
      "source": [
        "지하철 정보를 읽어오는 함수를 정의한다."
      ],
      "metadata": {
        "id": "L4HIpwQhAqB5"
      }
    },
    {
      "cell_type": "code",
      "source": [
        "\n",
        "\n",
        "def get_subway_info(api_key, station_name):\n",
        "    # URL 인코딩을 위해 station_name을 인코딩\n",
        "    station_name_encoded = requests.utils.quote(station_name)\n",
        "    # 아래 Open API 명령어를 통해 값을 읽어온다.\n",
        "    url = f\"http://swopenapi.seoul.go.kr/api/subway/{api_key}/json/realtimeStationArrival/0/5/{station_name_encoded}\"\n",
        "\n",
        "    response = requests.get(url)\n",
        "    if response.status_code == 200:\n",
        "        # UTF-8로 인코딩된 응답 데이터를 읽어서 디코딩합니다.\n",
        "        response_text = response.content.decode('utf-8')\n",
        "        data = json.loads(response_text)\n",
        "\n",
        "        # 전체 응답 데이터를 디버그하기 위해 출력합니다.\n",
        "        print(\"Response Data:\", json.dumps(data, indent=4, ensure_ascii=False))\n",
        "\n",
        "        if \"errorMessage\" in data and data[\"errorMessage\"][\"status\"] != 200:\n",
        "            print(\"Error:\", data[\"errorMessage\"][\"message\"])\n",
        "            return None\n",
        "        else:\n",
        "            if 'realtimeArrivalList' in data:\n",
        "                arrivals = data['realtimeArrivalList']\n",
        "\n",
        "                # realtimeArrivalList 데이터를 출력하여 확인합니다.\n",
        "                print(\"Realtime Arrival List:\", json.dumps(arrivals, indent=4, ensure_ascii=False))\n",
        "\n",
        "                # DataFrame으로 변환\n",
        "                if isinstance(arrivals, list) and len(arrivals) > 0:\n",
        "                    df = pd.DataFrame(arrivals)\n",
        "                    return df\n",
        "                else:\n",
        "                    print(\"No arrivals data to convert to DataFrame.\")\n",
        "                    return None\n",
        "            else:\n",
        "                print(\"Error: 'realtimeArrivalList' not found in response\")\n",
        "                return None\n",
        "    else:\n",
        "        print(f\"Failed to retrieve data: {response.status_code}\")\n",
        "        return None\n",
        "\n",
        "def save_to_csv(df, filename):\n",
        "    df.to_csv(filename, index=False, encoding='utf-8-sig')\n",
        "    print(f\"Data saved to {filename}\")\n",
        "\n",
        "\n",
        "\n"
      ],
      "metadata": {
        "id": "nhHziONI_9un"
      },
      "execution_count": null,
      "outputs": []
    },
    {
      "cell_type": "markdown",
      "source": [
        "원하는 값을 설정한다."
      ],
      "metadata": {
        "id": "nqUAjIoQA2WJ"
      }
    },
    {
      "cell_type": "code",
      "source": [
        "station_name = \"서울\"  # 검색할 지하철 역 이름\n",
        "date = \"2024-07-20\"  # 검색할 날짜 (YYYY-MM-DD 형식)\n",
        "time = \"15:00\"  # 검색할 시간 (HH:MM 형식)"
      ],
      "metadata": {
        "id": "PpN51s4ZA--L"
      },
      "execution_count": null,
      "outputs": []
    },
    {
      "cell_type": "markdown",
      "source": [
        "함수를 호출한다. 예시를 위해 함수 내에서 읽어온 JSON 값과 pandas 값을 출력하도록 했다."
      ],
      "metadata": {
        "id": "byUIqgSABRxb"
      }
    },
    {
      "cell_type": "code",
      "source": [
        "df = get_subway_info(api_key, station_name)"
      ],
      "metadata": {
        "id": "JX1PiEoHBdyx"
      },
      "execution_count": null,
      "outputs": []
    },
    {
      "cell_type": "markdown",
      "source": [
        "df에 담겨있는 값을 \"CSV\" 파일로 저장한다."
      ],
      "metadata": {
        "id": "e51swaHhBgbb"
      }
    },
    {
      "cell_type": "code",
      "source": [
        "if df is not None:\n",
        "    print(df)\n",
        "    save_to_csv(df, \"subway_info.csv\")\n",
        "else:\n",
        "    print(\"No data found\")"
      ],
      "metadata": {
        "id": "50n33Oh8AvBJ"
      },
      "execution_count": null,
      "outputs": []
    }
  ]
}