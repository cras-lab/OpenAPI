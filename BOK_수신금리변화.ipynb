{
  "nbformat": 4,
  "nbformat_minor": 0,
  "metadata": {
    "colab": {
      "provenance": [],
      "authorship_tag": "ABX9TyMU+jUrFDXZEvTYv1cXxTqX",
      "include_colab_link": true
    },
    "kernelspec": {
      "name": "python3",
      "display_name": "Python 3"
    },
    "language_info": {
      "name": "python"
    }
  },
  "cells": [
    {
      "cell_type": "markdown",
      "metadata": {
        "id": "view-in-github",
        "colab_type": "text"
      },
      "source": [
        "<a href=\"https://colab.research.google.com/github/cras-lab/OpenAPI/blob/main/BOK_%EC%88%98%EC%8B%A0%EA%B8%88%EB%A6%AC%EB%B3%80%ED%99%94.ipynb\" target=\"_parent\"><img src=\"https://colab.research.google.com/assets/colab-badge.svg\" alt=\"Open In Colab\"/></a>"
      ]
    },
    {
      "cell_type": "markdown",
      "source": [
        "필요한 모듈을 임포트 한다."
      ],
      "metadata": {
        "id": "S8jYKmL1AMZj"
      }
    },
    {
      "cell_type": "code",
      "source": [
        "import requests\n",
        "import pandas as pd\n",
        "import matplotlib.pyplot as plt"
      ],
      "metadata": {
        "id": "4UwilNS4AP1e"
      },
      "execution_count": null,
      "outputs": []
    },
    {
      "cell_type": "markdown",
      "source": [
        "한국은행 API에 들어갈 매개변수를 설정한다."
      ],
      "metadata": {
        "id": "3ke8hn8TARav"
      }
    },
    {
      "cell_type": "code",
      "source": [
        "# API configuration\n",
        "API_KEY = \"2NBFHJY9F0DBETZYMFLB\"  # 본인의 키를 설정한다.\n",
        "START_DATE = \"201801\"   # 기준금리 읽을 시작 월\n",
        "END_DATE = \"202506\"     # 기준금리 읽을 마지막 월"
      ],
      "metadata": {
        "id": "PN4-apt3AVcs"
      },
      "execution_count": null,
      "outputs": []
    },
    {
      "cell_type": "markdown",
      "source": [
        "한국은행의 해당 OpenAPI call URL을 설정한다."
      ],
      "metadata": {
        "id": "nDcTfarBAfW5"
      }
    },
    {
      "cell_type": "code",
      "source": [
        "url = f\"https://ecos.bok.or.kr/api/StatisticSearch/{API_KEY}/json/kr/1/1000/121Y002/M/{START_DATE}/{END_DATE}/\""
      ],
      "metadata": {
        "id": "w-jFjA1GAjkf"
      },
      "execution_count": null,
      "outputs": []
    },
    {
      "cell_type": "markdown",
      "source": [
        "실제 값을 읽어 온다."
      ],
      "metadata": {
        "id": "rQAdqrS4AmBA"
      }
    },
    {
      "cell_type": "code",
      "source": [
        "# Request\n",
        "response = requests.get(url)\n",
        "data = response.json()"
      ],
      "metadata": {
        "id": "CuulIJ2uAnov"
      },
      "execution_count": null,
      "outputs": []
    },
    {
      "cell_type": "markdown",
      "source": [
        "오류면 중단하고, 값을 제대로 읽어 왔으면 data frame으로 변환한다."
      ],
      "metadata": {
        "id": "CzqfKEyOAqJl"
      }
    },
    {
      "cell_type": "code",
      "source": [
        "# Check and convert to DataFrame\n",
        "if 'StatisticSearch' not in data:\n",
        "    import json\n",
        "    print(\"❌ Error:\\n\", json.dumps(data, indent=2, ensure_ascii=False))\n",
        "    raise SystemExit\n",
        "\n",
        "df = pd.DataFrame(data['StatisticSearch']['row'])"
      ],
      "metadata": {
        "id": "Qyj0faMyAu0l"
      },
      "execution_count": null,
      "outputs": []
    },
    {
      "cell_type": "markdown",
      "source": [
        "데이터 중 기준금리 부분만 추출한다."
      ],
      "metadata": {
        "id": "3htetHp5A2sM"
      }
    },
    {
      "cell_type": "code",
      "source": [
        "# Filter only for \"한국은행 기준금리\"\n",
        "df = df[df['ITEM_NAME1'] == '저축성수신'].copy()"
      ],
      "metadata": {
        "id": "hnzYsubuA5Aj"
      },
      "execution_count": null,
      "outputs": []
    },
    {
      "cell_type": "markdown",
      "source": [
        "시간형식에 맞게 변환"
      ],
      "metadata": {
        "id": "vtP1C2mVA9VQ"
      }
    },
    {
      "cell_type": "code",
      "source": [
        "# Convert TIME to datetime and DATA_VALUE to float\n",
        "df['TIME'] = pd.to_datetime(df['TIME'], format='%Y%m')\n",
        "df['DATA_VALUE'] = pd.to_numeric(df['DATA_VALUE'], errors='coerce')\n",
        "\n",
        "# Clean\n",
        "df = df.dropna(subset=['TIME', 'DATA_VALUE']).sort_values('TIME')"
      ],
      "metadata": {
        "id": "RdB54Qj-BMez"
      },
      "execution_count": null,
      "outputs": []
    },
    {
      "cell_type": "markdown",
      "source": [
        "그래프로 도식화 해 본다."
      ],
      "metadata": {
        "id": "NT0Lg3zqBQY0"
      }
    },
    {
      "cell_type": "code",
      "execution_count": null,
      "metadata": {
        "id": "c0w2claH7zt1"
      },
      "outputs": [],
      "source": [
        "# Plot\n",
        "plt.figure(figsize=(12, 6))\n",
        "plt.plot(df['TIME'], df['DATA_VALUE'], marker='o', linestyle='-')\n",
        "plt.title(\"Deposit Rates  (BOK OpenAPI)\", fontsize=14)\n",
        "plt.xlabel(\"Period\")\n",
        "plt.ylabel(\" Deposit Rate (%)\")\n",
        "plt.grid(True)\n",
        "plt.tight_layout()\n",
        "plt.show()\n"
      ]
    }
  ]
}