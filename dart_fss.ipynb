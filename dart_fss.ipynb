{
  "nbformat": 4,
  "nbformat_minor": 0,
  "metadata": {
    "colab": {
      "provenance": [],
      "authorship_tag": "ABX9TyN1yakseF2yC8PWIiHxDgRB",
      "include_colab_link": true
    },
    "kernelspec": {
      "name": "python3",
      "display_name": "Python 3"
    },
    "language_info": {
      "name": "python"
    }
  },
  "cells": [
    {
      "cell_type": "markdown",
      "metadata": {
        "id": "view-in-github",
        "colab_type": "text"
      },
      "source": [
        "<a href=\"https://colab.research.google.com/github/cras-lab/OpenAPI/blob/main/dart_fss.ipynb\" target=\"_parent\"><img src=\"https://colab.research.google.com/assets/colab-badge.svg\" alt=\"Open In Colab\"/></a>"
      ]
    },
    {
      "cell_type": "code",
      "execution_count": null,
      "metadata": {
        "id": "6QSlsvgo2zKx"
      },
      "outputs": [],
      "source": [
        "pip install dart-fss"
      ]
    },
    {
      "cell_type": "code",
      "source": [
        "import dart_fss as dart\n",
        "\n",
        "# Open DART API KEY 설정\n",
        "api_key='a06ed5ecaee6fac7168de666b7912090bfd1af23'\n",
        "dart.set_api_key(api_key=api_key)\n",
        "\n",
        "# DART 에 공시된 회사 리스트 불러오기\n",
        "corp_list = dart.get_corp_list()\n",
        "\n",
        "# 삼성전자 검색\n",
        "samsung = corp_list.find_by_corp_name('삼성전자', exactly=True)[0]\n",
        "\n",
        "# 2024년부터 연간 연결재무제표 불러오기\n",
        "fs = samsung.extract_fs(bgn_de='20240101')\n",
        "\n",
        "# 재무제표 검색 결과를 엑셀파일로 저장 ( 기본저장위치: 실행폴더/fsdata )\n",
        "fs.save()"
      ],
      "metadata": {
        "id": "5qiO81Ll27sL"
      },
      "execution_count": null,
      "outputs": []
    }
  ]
}